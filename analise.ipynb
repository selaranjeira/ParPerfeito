{
 "cells": [
  {
   "cell_type": "markdown",
   "metadata": {},
   "source": [
    "### Solucao Desafio Par Perfeito:\n",
    "    Autor: Sergio Laranjeira"
   ]
  },
  {
   "cell_type": "markdown",
   "metadata": {},
   "source": [
    "### questao 1: Escrever as respectivas queries"
   ]
  },
  {
   "cell_type": "markdown",
   "metadata": {},
   "source": [
    "\"\"\"\n",
    "1)\n",
    "\n",
    "SELECT COUNT(*)\n",
    "FROM TABELA CLIENTES\n",
    "WHERE SEXO = 'F';\n",
    "\n",
    "\n",
    "SELECT COUNT(*)\n",
    "FROM TABELA CLIENTES\n",
    "WHERE SEXO = 'M';\n",
    "\"\"\""
   ]
  },
  {
   "cell_type": "markdown",
   "metadata": {},
   "source": [
    "\"\"\"\n",
    "2)\n",
    "\n",
    "SELECT COUNT(*) AS Qtd\n",
    "FROM TABELA CLIENTES \n",
    "WHERE Idade BETWEEN 18 AND 20 AS ´18-20´\n",
    "    AND Idade BETWEEN 21 AND 23 AS  ´21-23´\n",
    "    ELSE ´24-27´\n",
    "\"\"\""
   ]
  },
  {
   "cell_type": "markdown",
   "metadata": {},
   "source": [
    "\"\"\"\n",
    "3)\n",
    "WITH Tabela Winks AS (\n",
    "         SELECT \n",
    "             IDWink,\n",
    "             IDClienteE\n",
    "         FROM\n",
    "             Tabela Winks\n",
    "), AS TabWinks\n",
    "     Tabela Clientes AS (\n",
    "         SELECT \n",
    "             IDCliente,\n",
    "             Plano\n",
    "         FROM\n",
    "             Tabela Clientes\n",
    "     ), \n",
    "        SELECT COUNT(Plano)\n",
    "        FROM\n",
    "           Tabela Winks AS TW\n",
    "        JOIN\n",
    "           Tabela Clientes AS TC\n",
    "        ON\n",
    "           TW.IDWink = TC.IDCliente\n",
    "\n",
    "\n",
    "\"\"\""
   ]
  },
  {
   "cell_type": "markdown",
   "metadata": {},
   "source": [
    "### questao 2: \n",
    "\n",
    "#### Fazer uma analise explicando para as áreas de MKT / Produto, como está o resultado de 2019, isto é, onde estamos   mandando e o que está ruim e o que você acha que precisamos fazer para melhorar."
   ]
  },
  {
   "cell_type": "code",
   "execution_count": 1,
   "metadata": {},
   "outputs": [],
   "source": [
    "import numpy as np\n",
    "import pandas as pd\n",
    "import matplotlib.pyplot as plt"
   ]
  },
  {
   "cell_type": "code",
   "execution_count": 2,
   "metadata": {},
   "outputs": [
    {
     "data": {
      "text/html": [
       "<div>\n",
       "<style scoped>\n",
       "    .dataframe tbody tr th:only-of-type {\n",
       "        vertical-align: middle;\n",
       "    }\n",
       "\n",
       "    .dataframe tbody tr th {\n",
       "        vertical-align: top;\n",
       "    }\n",
       "\n",
       "    .dataframe thead th {\n",
       "        text-align: right;\n",
       "    }\n",
       "</style>\n",
       "<table border=\"1\" class=\"dataframe\">\n",
       "  <thead>\n",
       "    <tr style=\"text-align: right;\">\n",
       "      <th></th>\n",
       "      <th>AnoMes</th>\n",
       "      <th>Plataforma</th>\n",
       "      <th>Canal</th>\n",
       "      <th>Regs</th>\n",
       "      <th>Fts1d</th>\n",
       "      <th>Entrada</th>\n",
       "      <th>Saida</th>\n",
       "      <th>Custo</th>\n",
       "      <th>Receita</th>\n",
       "    </tr>\n",
       "  </thead>\n",
       "  <tbody>\n",
       "    <tr>\n",
       "      <th>0</th>\n",
       "      <td>2019-01</td>\n",
       "      <td>Desktop</td>\n",
       "      <td>Direct</td>\n",
       "      <td>10000</td>\n",
       "      <td>150</td>\n",
       "      <td>315</td>\n",
       "      <td>472.5</td>\n",
       "      <td>15000</td>\n",
       "      <td>42525.00</td>\n",
       "    </tr>\n",
       "    <tr>\n",
       "      <th>1</th>\n",
       "      <td>2019-02</td>\n",
       "      <td>Desktop</td>\n",
       "      <td>Direct</td>\n",
       "      <td>9000</td>\n",
       "      <td>135</td>\n",
       "      <td>284</td>\n",
       "      <td>426.0</td>\n",
       "      <td>15000</td>\n",
       "      <td>38272.50</td>\n",
       "    </tr>\n",
       "    <tr>\n",
       "      <th>2</th>\n",
       "      <td>2019-03</td>\n",
       "      <td>Desktop</td>\n",
       "      <td>Direct</td>\n",
       "      <td>8100</td>\n",
       "      <td>122</td>\n",
       "      <td>255</td>\n",
       "      <td>382.5</td>\n",
       "      <td>15000</td>\n",
       "      <td>34445.25</td>\n",
       "    </tr>\n",
       "    <tr>\n",
       "      <th>3</th>\n",
       "      <td>2019-04</td>\n",
       "      <td>Desktop</td>\n",
       "      <td>Direct</td>\n",
       "      <td>7290</td>\n",
       "      <td>109</td>\n",
       "      <td>230</td>\n",
       "      <td>345.0</td>\n",
       "      <td>15000</td>\n",
       "      <td>31000.73</td>\n",
       "    </tr>\n",
       "    <tr>\n",
       "      <th>4</th>\n",
       "      <td>2019-05</td>\n",
       "      <td>Desktop</td>\n",
       "      <td>Direct</td>\n",
       "      <td>6561</td>\n",
       "      <td>98</td>\n",
       "      <td>207</td>\n",
       "      <td>310.5</td>\n",
       "      <td>15000</td>\n",
       "      <td>27900.65</td>\n",
       "    </tr>\n",
       "  </tbody>\n",
       "</table>\n",
       "</div>"
      ],
      "text/plain": [
       "    AnoMes Plataforma   Canal   Regs  Fts1d  Entrada  Saida  Custo   Receita\n",
       "0  2019-01    Desktop  Direct  10000    150      315  472.5  15000  42525.00\n",
       "1  2019-02    Desktop  Direct   9000    135      284  426.0  15000  38272.50\n",
       "2  2019-03    Desktop  Direct   8100    122      255  382.5  15000  34445.25\n",
       "3  2019-04    Desktop  Direct   7290    109      230  345.0  15000  31000.73\n",
       "4  2019-05    Desktop  Direct   6561     98      207  310.5  15000  27900.65"
      ]
     },
     "execution_count": 2,
     "metadata": {},
     "output_type": "execute_result"
    }
   ],
   "source": [
    "file = 'Dados.CSV'\n",
    "df = pd.read_csv(file)\n",
    "df.head()"
   ]
  },
  {
   "cell_type": "code",
   "execution_count": 3,
   "metadata": {},
   "outputs": [
    {
     "data": {
      "text/plain": [
       "(30, 9)"
      ]
     },
     "execution_count": 3,
     "metadata": {},
     "output_type": "execute_result"
    }
   ],
   "source": [
    "df.shape"
   ]
  },
  {
   "cell_type": "code",
   "execution_count": 4,
   "metadata": {},
   "outputs": [
    {
     "data": {
      "text/html": [
       "<div>\n",
       "<style scoped>\n",
       "    .dataframe tbody tr th:only-of-type {\n",
       "        vertical-align: middle;\n",
       "    }\n",
       "\n",
       "    .dataframe tbody tr th {\n",
       "        vertical-align: top;\n",
       "    }\n",
       "\n",
       "    .dataframe thead th {\n",
       "        text-align: right;\n",
       "    }\n",
       "</style>\n",
       "<table border=\"1\" class=\"dataframe\">\n",
       "  <thead>\n",
       "    <tr style=\"text-align: right;\">\n",
       "      <th></th>\n",
       "      <th>Regs</th>\n",
       "      <th>Fts1d</th>\n",
       "      <th>Entrada</th>\n",
       "      <th>Saida</th>\n",
       "      <th>Custo</th>\n",
       "      <th>Receita</th>\n",
       "    </tr>\n",
       "  </thead>\n",
       "  <tbody>\n",
       "    <tr>\n",
       "      <th>count</th>\n",
       "      <td>30.000000</td>\n",
       "      <td>30.000000</td>\n",
       "      <td>30.000000</td>\n",
       "      <td>30.000000</td>\n",
       "      <td>30.000000</td>\n",
       "      <td>30.000000</td>\n",
       "    </tr>\n",
       "    <tr>\n",
       "      <th>mean</th>\n",
       "      <td>24768.166667</td>\n",
       "      <td>145.833333</td>\n",
       "      <td>306.233333</td>\n",
       "      <td>322.966667</td>\n",
       "      <td>42306.700000</td>\n",
       "      <td>41332.939333</td>\n",
       "    </tr>\n",
       "    <tr>\n",
       "      <th>std</th>\n",
       "      <td>17058.825670</td>\n",
       "      <td>96.733934</td>\n",
       "      <td>203.033832</td>\n",
       "      <td>163.028390</td>\n",
       "      <td>19399.331384</td>\n",
       "      <td>27415.154592</td>\n",
       "    </tr>\n",
       "    <tr>\n",
       "      <th>min</th>\n",
       "      <td>6561.000000</td>\n",
       "      <td>50.000000</td>\n",
       "      <td>105.000000</td>\n",
       "      <td>84.000000</td>\n",
       "      <td>15000.000000</td>\n",
       "      <td>14150.190000</td>\n",
       "    </tr>\n",
       "    <tr>\n",
       "      <th>25%</th>\n",
       "      <td>11550.000000</td>\n",
       "      <td>77.000000</td>\n",
       "      <td>161.750000</td>\n",
       "      <td>164.250000</td>\n",
       "      <td>20000.000000</td>\n",
       "      <td>21794.062500</td>\n",
       "    </tr>\n",
       "    <tr>\n",
       "      <th>50%</th>\n",
       "      <td>18100.000000</td>\n",
       "      <td>122.000000</td>\n",
       "      <td>256.000000</td>\n",
       "      <td>327.750000</td>\n",
       "      <td>47715.000000</td>\n",
       "      <td>34541.065000</td>\n",
       "    </tr>\n",
       "    <tr>\n",
       "      <th>75%</th>\n",
       "      <td>37431.250000</td>\n",
       "      <td>151.500000</td>\n",
       "      <td>318.000000</td>\n",
       "      <td>446.575000</td>\n",
       "      <td>56121.500000</td>\n",
       "      <td>42968.857500</td>\n",
       "    </tr>\n",
       "    <tr>\n",
       "      <th>max</th>\n",
       "      <td>69960.000000</td>\n",
       "      <td>397.000000</td>\n",
       "      <td>833.000000</td>\n",
       "      <td>666.400000</td>\n",
       "      <td>79740.000000</td>\n",
       "      <td>112478.630000</td>\n",
       "    </tr>\n",
       "  </tbody>\n",
       "</table>\n",
       "</div>"
      ],
      "text/plain": [
       "               Regs       Fts1d     Entrada       Saida         Custo  \\\n",
       "count     30.000000   30.000000   30.000000   30.000000     30.000000   \n",
       "mean   24768.166667  145.833333  306.233333  322.966667  42306.700000   \n",
       "std    17058.825670   96.733934  203.033832  163.028390  19399.331384   \n",
       "min     6561.000000   50.000000  105.000000   84.000000  15000.000000   \n",
       "25%    11550.000000   77.000000  161.750000  164.250000  20000.000000   \n",
       "50%    18100.000000  122.000000  256.000000  327.750000  47715.000000   \n",
       "75%    37431.250000  151.500000  318.000000  446.575000  56121.500000   \n",
       "max    69960.000000  397.000000  833.000000  666.400000  79740.000000   \n",
       "\n",
       "             Receita  \n",
       "count      30.000000  \n",
       "mean    41332.939333  \n",
       "std     27415.154592  \n",
       "min     14150.190000  \n",
       "25%     21794.062500  \n",
       "50%     34541.065000  \n",
       "75%     42968.857500  \n",
       "max    112478.630000  "
      ]
     },
     "execution_count": 4,
     "metadata": {},
     "output_type": "execute_result"
    }
   ],
   "source": [
    "df.describe()"
   ]
  },
  {
   "cell_type": "code",
   "execution_count": 5,
   "metadata": {},
   "outputs": [
    {
     "name": "stdout",
     "output_type": "stream",
     "text": [
      "<class 'pandas.core.frame.DataFrame'>\n",
      "RangeIndex: 30 entries, 0 to 29\n",
      "Data columns (total 9 columns):\n",
      "AnoMes        30 non-null object\n",
      "Plataforma    30 non-null object\n",
      "Canal         30 non-null object\n",
      "Regs          30 non-null int64\n",
      "Fts1d         30 non-null int64\n",
      "Entrada       30 non-null int64\n",
      "Saida         30 non-null float64\n",
      "Custo         30 non-null int64\n",
      "Receita       30 non-null float64\n",
      "dtypes: float64(2), int64(4), object(3)\n",
      "memory usage: 2.2+ KB\n"
     ]
    }
   ],
   "source": [
    "df.info()"
   ]
  },
  {
   "cell_type": "markdown",
   "metadata": {},
   "source": [
    "#### O resultado da empresa no exercicio pode ser calculado como a soma das receitas menos a soma das despesas"
   ]
  },
  {
   "cell_type": "code",
   "execution_count": 6,
   "metadata": {},
   "outputs": [
    {
     "data": {
      "text/plain": [
       "AnoMes\n",
       "2019-01    287043.75\n",
       "2019-02    306180.00\n",
       "2019-03    312027.20\n",
       "2019-04    166944.30\n",
       "2019-05    167792.93\n",
       "Name: Receita, dtype: float64"
      ]
     },
     "execution_count": 6,
     "metadata": {},
     "output_type": "execute_result"
    }
   ],
   "source": [
    "# Receitas mensais\n",
    "df1 = df.groupby(df.AnoMes).Receita.sum()\n",
    "df1"
   ]
  },
  {
   "cell_type": "code",
   "execution_count": 7,
   "metadata": {},
   "outputs": [
    {
     "data": {
      "text/plain": [
       "AnoMes\n",
       "2019-01    256558\n",
       "2019-02    270160\n",
       "2019-03    234289\n",
       "2019-04    264093\n",
       "2019-05    244101\n",
       "Name: Custo, dtype: int64"
      ]
     },
     "execution_count": 7,
     "metadata": {},
     "output_type": "execute_result"
    }
   ],
   "source": [
    "# Despesas mensais\n",
    "df2 = df.groupby(df.AnoMes).Custo.sum()\n",
    "df2"
   ]
  },
  {
   "cell_type": "code",
   "execution_count": 8,
   "metadata": {},
   "outputs": [
    {
     "data": {
      "text/plain": [
       "-29212.820000000065"
      ]
     },
     "execution_count": 8,
     "metadata": {},
     "output_type": "execute_result"
    }
   ],
   "source": [
    "resultado = df.Receita.sum() - df.Custo.sum()\n",
    "resultado"
   ]
  },
  {
   "cell_type": "markdown",
   "metadata": {},
   "source": [
    "### Por plataforma"
   ]
  },
  {
   "cell_type": "code",
   "execution_count": 9,
   "metadata": {},
   "outputs": [],
   "source": [
    "#Desktop"
   ]
  },
  {
   "cell_type": "code",
   "execution_count": 10,
   "metadata": {},
   "outputs": [],
   "source": [
    "df_Desktop = df[df.Plataforma == 'Desktop']"
   ]
  },
  {
   "cell_type": "code",
   "execution_count": 11,
   "metadata": {},
   "outputs": [
    {
     "data": {
      "text/plain": [
       "450910.92"
      ]
     },
     "execution_count": 11,
     "metadata": {},
     "output_type": "execute_result"
    }
   ],
   "source": [
    "df_Desktop2 = df_Desktop.groupby(df_Desktop.AnoMes).Receita.sum()\n",
    "df_Desktop2.sum()"
   ]
  },
  {
   "cell_type": "code",
   "execution_count": 12,
   "metadata": {},
   "outputs": [
    {
     "data": {
      "text/plain": [
       "636648"
      ]
     },
     "execution_count": 12,
     "metadata": {},
     "output_type": "execute_result"
    }
   ],
   "source": [
    "df_Desktop3 = df_Desktop.groupby(df_Desktop.AnoMes).Custo.sum()\n",
    "df_Desktop3.sum()"
   ]
  },
  {
   "cell_type": "code",
   "execution_count": 13,
   "metadata": {},
   "outputs": [
    {
     "data": {
      "text/plain": [
       "-185737.08000000002"
      ]
     },
     "execution_count": 13,
     "metadata": {},
     "output_type": "execute_result"
    }
   ],
   "source": [
    "resultado_Desktop = df_Desktop2.sum() - df_Desktop3.sum()\n",
    "resultado_Desktop"
   ]
  },
  {
   "cell_type": "code",
   "execution_count": 14,
   "metadata": {},
   "outputs": [],
   "source": [
    "#Mobile"
   ]
  },
  {
   "cell_type": "code",
   "execution_count": 15,
   "metadata": {},
   "outputs": [],
   "source": [
    "df_Android = df[df.Plataforma == 'Android']"
   ]
  },
  {
   "cell_type": "code",
   "execution_count": 16,
   "metadata": {},
   "outputs": [
    {
     "data": {
      "text/plain": [
       "789077.26"
      ]
     },
     "execution_count": 16,
     "metadata": {},
     "output_type": "execute_result"
    }
   ],
   "source": [
    "df_Android2 = df_Android.groupby(df_Android.AnoMes).Receita.sum()\n",
    "df_Android2.sum()"
   ]
  },
  {
   "cell_type": "code",
   "execution_count": 17,
   "metadata": {},
   "outputs": [
    {
     "data": {
      "text/plain": [
       "632553"
      ]
     },
     "execution_count": 17,
     "metadata": {},
     "output_type": "execute_result"
    }
   ],
   "source": [
    "df_Android3 = df_Android.groupby(df_Android.AnoMes).Custo.sum()\n",
    "df_Android3.sum()"
   ]
  },
  {
   "cell_type": "code",
   "execution_count": 18,
   "metadata": {},
   "outputs": [
    {
     "data": {
      "text/plain": [
       "156524.26"
      ]
     },
     "execution_count": 18,
     "metadata": {},
     "output_type": "execute_result"
    }
   ],
   "source": [
    "resultado_Android = df_Android2.sum() - df_Android3.sum()\n",
    "resultado_Android"
   ]
  },
  {
   "cell_type": "markdown",
   "metadata": {},
   "source": [
    "### Por Canal: sendo clique espontaneo vs Ad"
   ]
  },
  {
   "cell_type": "code",
   "execution_count": 19,
   "metadata": {},
   "outputs": [],
   "source": [
    "# Ad"
   ]
  },
  {
   "cell_type": "code",
   "execution_count": 20,
   "metadata": {},
   "outputs": [],
   "source": [
    "df_Ad = df[df.Canal != 'Direct']"
   ]
  },
  {
   "cell_type": "code",
   "execution_count": 21,
   "metadata": {},
   "outputs": [
    {
     "data": {
      "text/plain": [
       "AnoMes\n",
       "2019-01    223256.25\n",
       "2019-02    244518.75\n",
       "2019-03    251854.32\n",
       "2019-04    121793.38\n",
       "2019-05    124327.07\n",
       "Name: Receita, dtype: float64"
      ]
     },
     "execution_count": 21,
     "metadata": {},
     "output_type": "execute_result"
    }
   ],
   "source": [
    "df_Ad1 = df_Ad.groupby(df_Ad.AnoMes).Receita.sum()\n",
    "df_Ad1"
   ]
  },
  {
   "cell_type": "code",
   "execution_count": 22,
   "metadata": {},
   "outputs": [
    {
     "data": {
      "text/plain": [
       "AnoMes\n",
       "2019-01    221558\n",
       "2019-02    235160\n",
       "2019-03    199289\n",
       "2019-04    229093\n",
       "2019-05    209101\n",
       "Name: Custo, dtype: int64"
      ]
     },
     "execution_count": 22,
     "metadata": {},
     "output_type": "execute_result"
    }
   ],
   "source": [
    "df_Ad2 = df_Ad.groupby(df_Ad.AnoMes).Custo.sum()\n",
    "df_Ad2"
   ]
  },
  {
   "cell_type": "code",
   "execution_count": 23,
   "metadata": {},
   "outputs": [
    {
     "data": {
      "text/plain": [
       "-128451.22999999998"
      ]
     },
     "execution_count": 23,
     "metadata": {},
     "output_type": "execute_result"
    }
   ],
   "source": [
    "resultado_Ad = df_Ad1.sum() - df_Ad2.sum()\n",
    "resultado_Ad"
   ]
  },
  {
   "cell_type": "code",
   "execution_count": 24,
   "metadata": {},
   "outputs": [],
   "source": [
    "# Clique espontaneo"
   ]
  },
  {
   "cell_type": "code",
   "execution_count": 25,
   "metadata": {},
   "outputs": [],
   "source": [
    "df_espontaneo = df[df.Canal == 'Direct']"
   ]
  },
  {
   "cell_type": "code",
   "execution_count": 26,
   "metadata": {},
   "outputs": [
    {
     "data": {
      "text/plain": [
       "AnoMes\n",
       "2019-01    63787.50\n",
       "2019-02    61661.25\n",
       "2019-03    60172.88\n",
       "2019-04    45150.92\n",
       "2019-05    43465.86\n",
       "Name: Receita, dtype: float64"
      ]
     },
     "execution_count": 26,
     "metadata": {},
     "output_type": "execute_result"
    }
   ],
   "source": [
    "df_espontaneo1 = df_espontaneo.groupby(df_espontaneo.AnoMes).Receita.sum()\n",
    "df_espontaneo1"
   ]
  },
  {
   "cell_type": "code",
   "execution_count": 27,
   "metadata": {},
   "outputs": [
    {
     "data": {
      "text/plain": [
       "AnoMes\n",
       "2019-01    35000\n",
       "2019-02    35000\n",
       "2019-03    35000\n",
       "2019-04    35000\n",
       "2019-05    35000\n",
       "Name: Custo, dtype: int64"
      ]
     },
     "execution_count": 27,
     "metadata": {},
     "output_type": "execute_result"
    }
   ],
   "source": [
    "df_espontaneo2 = df_espontaneo.groupby(df_espontaneo.AnoMes).Custo.sum()\n",
    "df_espontaneo2"
   ]
  },
  {
   "cell_type": "code",
   "execution_count": 28,
   "metadata": {},
   "outputs": [
    {
     "data": {
      "text/plain": [
       "99238.40999999997"
      ]
     },
     "execution_count": 28,
     "metadata": {},
     "output_type": "execute_result"
    }
   ],
   "source": [
    "resultado_espontaneo = df_espontaneo1.sum() - df_espontaneo2.sum()\n",
    "resultado_espontaneo"
   ]
  },
  {
   "cell_type": "markdown",
   "metadata": {},
   "source": [
    "Resultado do exercicio: Negativo em R$ 29.212,82\n",
    "\n",
    "Os custos superam as receitas, em especial os meses de fevereiro e marco apresentam maior receita, abril apresenta queda, que se mantem aproximadamente constante frente ao mes de maio. \n",
    "\n",
    "Na analise por plataforma, desktop vem apresentando prejuizo enquanto mobile vem apresentando receita positiva. Isto indica que o perfil do cliente tende a ser mais lucrativo pra empresa se usuario mobile.\n",
    "\n",
    "Na analise por canal, cliente oriundo de Ad apresenta prejuizo enquanto cliente fruto de clique espontaneo apresenta bom resultado.\n",
    "\n",
    "O que faz sugerir foco maior de ambas as areas de MKT e Prod ao atrair e converter clientes Desktop com clique fruto de Advertiser (especialmente durante os meses abril e maio) atraves de divulgacao pelos canais apropriados (se possivel os mais diversificados possiveis), pois clientes mobile com clique espontaneo ja apresentam bom resultado."
   ]
  }
 ],
 "metadata": {
  "kernelspec": {
   "display_name": "Python 3",
   "language": "python",
   "name": "python3"
  },
  "language_info": {
   "codemirror_mode": {
    "name": "ipython",
    "version": 3
   },
   "file_extension": ".py",
   "mimetype": "text/x-python",
   "name": "python",
   "nbconvert_exporter": "python",
   "pygments_lexer": "ipython3",
   "version": "3.6.5"
  }
 },
 "nbformat": 4,
 "nbformat_minor": 2
}
